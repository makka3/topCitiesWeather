{
 "cells": [
  {
   "cell_type": "code",
   "execution_count": 22,
   "metadata": {},
   "outputs": [],
   "source": [
    "import os\n",
    "import requests\n",
    "import pandas as pd\n",
    "from bs4 import BeautifulSoup\n",
    "import datetime"
   ]
  },
  {
   "cell_type": "code",
   "execution_count": 23,
   "metadata": {},
   "outputs": [],
   "source": [
    "d = datetime.date.today()"
   ]
  },
  {
   "cell_type": "code",
   "execution_count": 24,
   "metadata": {},
   "outputs": [
    {
     "data": {
      "text/plain": [
       "'26 April, 2020'"
      ]
     },
     "execution_count": 24,
     "metadata": {},
     "output_type": "execute_result"
    }
   ],
   "source": [
    "d.strftime('%d %B, %Y')"
   ]
  },
  {
   "cell_type": "code",
   "execution_count": 28,
   "metadata": {},
   "outputs": [],
   "source": [
    "def getCurrentWeather(params):\n",
    "    weather = 'http://api.openweathermap.org/data/2.5/weather'\n",
    "    params['APPID'] = '1714486ff1a0070e51d0757147b0eeb0'\n",
    "    params['units'] = 'metric'\n",
    "    return requests.get(weather,params)"
   ]
  },
  {
   "cell_type": "code",
   "execution_count": 120,
   "metadata": {},
   "outputs": [],
   "source": [
    "params = {'q':'Los Angeles'}"
   ]
  },
  {
   "cell_type": "code",
   "execution_count": 121,
   "metadata": {},
   "outputs": [],
   "source": [
    "response = getCurrentWeather(params)"
   ]
  },
  {
   "cell_type": "code",
   "execution_count": 122,
   "metadata": {},
   "outputs": [
    {
     "data": {
      "text/plain": [
       "200"
      ]
     },
     "execution_count": 122,
     "metadata": {},
     "output_type": "execute_result"
    }
   ],
   "source": [
    "response.status_code"
   ]
  },
  {
   "cell_type": "code",
   "execution_count": 123,
   "metadata": {},
   "outputs": [
    {
     "data": {
      "text/plain": [
       "{'base': 'stations',\n",
       " 'clouds': {'all': 1},\n",
       " 'cod': 200,\n",
       " 'coord': {'lat': 34.05, 'lon': -118.24},\n",
       " 'dt': 1587915474,\n",
       " 'id': 5368361,\n",
       " 'main': {'feels_like': 19.65,\n",
       "  'humidity': 64,\n",
       "  'pressure': 1014,\n",
       "  'temp': 19.4,\n",
       "  'temp_max': 23.33,\n",
       "  'temp_min': 14},\n",
       " 'name': 'Los Angeles',\n",
       " 'sys': {'country': 'US',\n",
       "  'id': 3694,\n",
       "  'sunrise': 1587906491,\n",
       "  'sunset': 1587954769,\n",
       "  'type': 1},\n",
       " 'timezone': -25200,\n",
       " 'visibility': 8047,\n",
       " 'weather': [{'description': 'haze',\n",
       "   'icon': '50d',\n",
       "   'id': 721,\n",
       "   'main': 'Haze'}],\n",
       " 'wind': {'deg': 205, 'speed': 0.71}}"
      ]
     },
     "execution_count": 123,
     "metadata": {},
     "output_type": "execute_result"
    }
   ],
   "source": [
    "response.json()"
   ]
  },
  {
   "cell_type": "code",
   "execution_count": 124,
   "metadata": {},
   "outputs": [],
   "source": [
    "cit = response.json()"
   ]
  },
  {
   "cell_type": "code",
   "execution_count": 125,
   "metadata": {},
   "outputs": [],
   "source": [
    "tim = cit['dt'] - 60*60*3 + cit['timezone']"
   ]
  },
  {
   "cell_type": "code",
   "execution_count": 127,
   "metadata": {},
   "outputs": [
    {
     "data": {
      "text/plain": [
       "'2020-04-26 08:37'"
      ]
     },
     "execution_count": 127,
     "metadata": {},
     "output_type": "execute_result"
    }
   ],
   "source": [
    "datetime.datetime.fromtimestamp(tim).strftime(\"%Y-%m-%d %H:%M\")"
   ]
  },
  {
   "cell_type": "markdown",
   "metadata": {},
   "source": [
    "## Getting World Cities"
   ]
  },
  {
   "cell_type": "code",
   "execution_count": 2,
   "metadata": {},
   "outputs": [],
   "source": [
    "world_cities = requests.get('https://worldpopulationreview.com/world-cities/')"
   ]
  },
  {
   "cell_type": "code",
   "execution_count": 3,
   "metadata": {},
   "outputs": [],
   "source": [
    "cities = BeautifulSoup(world_cities.text,'lxml')"
   ]
  },
  {
   "cell_type": "code",
   "execution_count": 4,
   "metadata": {},
   "outputs": [],
   "source": [
    "city_names = []\n",
    "for i in range(42,450):\n",
    "    if i%2 == 0:\n",
    "        city_names.append(cities.findAll('a')[i].getText())"
   ]
  },
  {
   "cell_type": "code",
   "execution_count": 5,
   "metadata": {},
   "outputs": [
    {
     "data": {
      "text/plain": [
       "['Tokyo', 'Delhi', 'Shanghai', 'Sao Paulo', 'Mexico City']"
      ]
     },
     "execution_count": 5,
     "metadata": {},
     "output_type": "execute_result"
    }
   ],
   "source": [
    "city_names[:5]"
   ]
  },
  {
   "cell_type": "code",
   "execution_count": 12,
   "metadata": {},
   "outputs": [],
   "source": [
    "city_names_pop = pd.DataFrame(data={\"city_names\":city_names, \"population\":city_populations})"
   ]
  },
  {
   "cell_type": "code",
   "execution_count": 21,
   "metadata": {},
   "outputs": [],
   "source": [
    "city_names_pop.to_csv('city_names.csv',index=False)"
   ]
  },
  {
   "cell_type": "code",
   "execution_count": 24,
   "metadata": {},
   "outputs": [],
   "source": [
    "city_np = pd.read_csv('city_names.csv')"
   ]
  },
  {
   "cell_type": "code",
   "execution_count": 28,
   "metadata": {},
   "outputs": [],
   "source": [
    "if city_np is None:\n",
    "    print(3)"
   ]
  },
  {
   "cell_type": "code",
   "execution_count": 29,
   "metadata": {},
   "outputs": [
    {
     "data": {
      "text/plain": [
       "['Tokyo',\n",
       " 'Delhi',\n",
       " 'Shanghai',\n",
       " 'Sao Paulo',\n",
       " 'Mexico City',\n",
       " 'Dhaka',\n",
       " 'Cairo',\n",
       " 'Beijing',\n",
       " 'Mumbai',\n",
       " 'Osaka',\n",
       " 'Karachi',\n",
       " 'Chongqing',\n",
       " 'Istanbul',\n",
       " 'Buenos Aires',\n",
       " 'Kolkata',\n",
       " 'Lagos',\n",
       " 'Kinshasa',\n",
       " 'Manila',\n",
       " 'Tianjin',\n",
       " 'Rio De Janeiro',\n",
       " 'Guangzhou',\n",
       " 'Lahore',\n",
       " 'Moscow',\n",
       " 'Shenzhen',\n",
       " 'Bangalore',\n",
       " 'Paris',\n",
       " 'Bogota',\n",
       " 'Chennai',\n",
       " 'Jakarta',\n",
       " 'Lima',\n",
       " 'Bangkok',\n",
       " 'Hyderabad',\n",
       " 'Seoul',\n",
       " 'Nagoya',\n",
       " 'London',\n",
       " 'Chengdu',\n",
       " 'Tehran',\n",
       " 'New York',\n",
       " 'Wuhan',\n",
       " 'Luanda',\n",
       " 'Ahmedabad',\n",
       " 'Xian',\n",
       " 'Kuala Lumpur',\n",
       " 'Hangzhou',\n",
       " 'Hong Kong',\n",
       " 'Dongguan',\n",
       " 'Foshan',\n",
       " 'Riyadh',\n",
       " 'Shenyang',\n",
       " 'Surat',\n",
       " 'Baghdad',\n",
       " 'Suzhou Jiangsu',\n",
       " 'Santiago',\n",
       " 'Dar Es Salaam',\n",
       " 'Pune',\n",
       " 'Madrid',\n",
       " 'Harbin',\n",
       " 'Toronto',\n",
       " 'Belo Horizonte',\n",
       " 'Singapore',\n",
       " 'Khartoum',\n",
       " 'Johannesburg',\n",
       " 'Qingdao',\n",
       " 'Dalian',\n",
       " 'Barcelona',\n",
       " 'Fukuoka',\n",
       " 'St Petersburg',\n",
       " 'Jinan',\n",
       " 'Yangon',\n",
       " 'Zhengzhou',\n",
       " 'Alexandria',\n",
       " 'Abidjan',\n",
       " 'Guadalajara',\n",
       " 'Ankara',\n",
       " 'Chittagong',\n",
       " 'Melbourne',\n",
       " 'Sydney',\n",
       " 'Monterrey',\n",
       " 'Nairobi',\n",
       " 'Brasilia',\n",
       " 'Cape Town',\n",
       " 'Jiddah',\n",
       " 'Changsha',\n",
       " 'Kunming',\n",
       " 'Changchun',\n",
       " 'Xinbei',\n",
       " 'Urumqi',\n",
       " 'Shantou',\n",
       " 'Rome',\n",
       " 'Hefei',\n",
       " 'Montreal',\n",
       " 'Tel Aviv',\n",
       " 'Porto Alegre',\n",
       " 'Recife',\n",
       " 'Ningbo',\n",
       " 'Shijiazhuang',\n",
       " 'Los Angeles',\n",
       " 'Fortaleza',\n",
       " 'Medellin',\n",
       " 'Kano',\n",
       " 'Yaounde',\n",
       " 'Jaipur',\n",
       " 'Ekurhuleni',\n",
       " 'Taiyuan Shanxi',\n",
       " 'Nanning',\n",
       " 'San Salvador',\n",
       " 'Casablanca',\n",
       " 'Xiamen',\n",
       " 'Fuzhou Fujian',\n",
       " 'Lucknow',\n",
       " 'Douala',\n",
       " 'Changzhou',\n",
       " 'Wenzhou',\n",
       " 'Nanchang',\n",
       " 'Berlin',\n",
       " 'Kozhikode',\n",
       " 'Ibadan',\n",
       " 'Busan',\n",
       " 'Faisalabad',\n",
       " 'Tangshan Hebei',\n",
       " 'Bekasi',\n",
       " 'Malappuram',\n",
       " 'Antananarivo',\n",
       " 'Kumasi',\n",
       " 'Asuncion',\n",
       " 'Santo Domingo',\n",
       " 'Guiyang',\n",
       " 'Campinas',\n",
       " 'Kampala',\n",
       " 'Abuja',\n",
       " 'Wuxi Jiangsu',\n",
       " 'Mashhad',\n",
       " 'Puebla',\n",
       " 'Athens',\n",
       " 'Dakar',\n",
       " 'Milan',\n",
       " 'Kanpur',\n",
       " 'Kuwait City',\n",
       " 'Kochi',\n",
       " 'Lanzhou',\n",
       " 'Thrissur',\n",
       " 'Port Harcourt',\n",
       " 'Guayaquil',\n",
       " 'Sanaa',\n",
       " 'Lisbon',\n",
       " 'Surabaya',\n",
       " 'Guatemala City',\n",
       " 'Shizuoka',\n",
       " 'Zhongshan',\n",
       " 'Dubai',\n",
       " 'Incheon',\n",
       " 'Coimbatore',\n",
       " 'Cali',\n",
       " 'Ouagadougou',\n",
       " 'Lusaka',\n",
       " 'Port Au Prince',\n",
       " 'Algiers',\n",
       " 'Manchester',\n",
       " 'Depok',\n",
       " 'Taiyuan',\n",
       " 'Goiania',\n",
       " 'Chicago',\n",
       " 'Sapporo',\n",
       " 'Huaian',\n",
       " 'Weifang',\n",
       " 'Zibo',\n",
       " 'Bamako',\n",
       " 'Thiruvananthapuram',\n",
       " 'Vancouver',\n",
       " 'Bandung',\n",
       " 'Pretoria',\n",
       " 'Shaoxing',\n",
       " 'Yantai',\n",
       " 'Mbuji Mayi',\n",
       " 'Huizhou',\n",
       " 'Tashkent',\n",
       " 'Accra',\n",
       " 'Lubumbashi',\n",
       " 'Toluca De Lerdo',\n",
       " 'San Juan',\n",
       " 'Beirut',\n",
       " 'Brisbane',\n",
       " 'Damascus',\n",
       " 'Bhopal',\n",
       " 'Brazzaville',\n",
       " 'Luoyang',\n",
       " 'Houston',\n",
       " 'Tunis',\n",
       " 'Baku',\n",
       " 'Tangerang',\n",
       " 'Medan',\n",
       " 'Belem',\n",
       " 'Sendai',\n",
       " 'Mogadishu',\n",
       " 'Nantong',\n",
       " 'Barranquilla',\n",
       " 'Manaus',\n",
       " 'Maracaibo',\n",
       " 'Taoyuan',\n",
       " 'Rawalpindi',\n",
       " 'Gujranwala',\n",
       " 'Agra',\n",
       " 'Peshawar',\n",
       " 'Daegu']"
      ]
     },
     "execution_count": 29,
     "metadata": {},
     "output_type": "execute_result"
    }
   ],
   "source": [
    "city_np['city_names'].values.tolist()"
   ]
  },
  {
   "cell_type": "code",
   "execution_count": 15,
   "metadata": {},
   "outputs": [
    {
     "name": "stdout",
     "output_type": "stream",
     "text": [
      "Tokyo\n",
      "Delhi\n",
      "Shanghai\n",
      "Sao Paulo\n",
      "Mexico City\n"
     ]
    }
   ],
   "source": [
    "for i in range(0,5):\n",
    "    print(city_names_pop['city_names'].values.tolist()[i])"
   ]
  },
  {
   "cell_type": "code",
   "execution_count": 12,
   "metadata": {},
   "outputs": [
    {
     "data": {
      "text/plain": [
       "204"
      ]
     },
     "execution_count": 12,
     "metadata": {},
     "output_type": "execute_result"
    }
   ],
   "source": [
    "len(city_names)"
   ]
  },
  {
   "cell_type": "code",
   "execution_count": 9,
   "metadata": {},
   "outputs": [],
   "source": [
    "city_populations = []\n",
    "for i in range(1220):\n",
    "    if i%6 == 0:\n",
    "        city_populations.append(cities.findAll('td')[i+3].getText())"
   ]
  },
  {
   "cell_type": "code",
   "execution_count": 10,
   "metadata": {
    "scrolled": true
   },
   "outputs": [
    {
     "data": {
      "text/plain": [
       "['37,393,129', '30,290,936', '27,058,479', '22,043,028', '21,782,378']"
      ]
     },
     "execution_count": 10,
     "metadata": {},
     "output_type": "execute_result"
    }
   ],
   "source": [
    "city_populations[:5]"
   ]
  },
  {
   "cell_type": "code",
   "execution_count": 11,
   "metadata": {},
   "outputs": [
    {
     "data": {
      "text/plain": [
       "204"
      ]
     },
     "execution_count": 11,
     "metadata": {},
     "output_type": "execute_result"
    }
   ],
   "source": [
    "len(city_populations)"
   ]
  },
  {
   "cell_type": "markdown",
   "metadata": {},
   "source": [
    "## Putting it all together"
   ]
  },
  {
   "cell_type": "code",
   "execution_count": 16,
   "metadata": {},
   "outputs": [],
   "source": [
    "def get_correct_name(city_name):\n",
    "    correct_name = city_name\n",
    "    if city_name == 'St Petersburg':\n",
    "        correct_name = 'St. Petersburg'\n",
    "    elif city_name == 'Rome':\n",
    "        correct_name = 'Rome,IT'\n",
    "    elif city_name == 'Melbourne':\n",
    "        correct_name = 'Melbourne,AU'\n",
    "    return correct_name"
   ]
  },
  {
   "cell_type": "code",
   "execution_count": 20,
   "metadata": {},
   "outputs": [],
   "source": [
    "world_temperatures = []\n",
    "for i in range(204):\n",
    "    params['q'] = get_correct_name(city_names[i])\n",
    "    response = getCurrentWeather(params)\n",
    "    if response.status_code != 200:\n",
    "        continue\n",
    "    city_information = response.json()\n",
    "    country = city_information['sys']['country']\n",
    "    latitude = city_information['coord']['lat']\n",
    "    longitude = city_information['coord']['lon']\n",
    "    weather_condition = city_information['weather'][0]['main']\n",
    "    weather_det = city_information['weather'][0]['description']\n",
    "    feels_like = city_information['main']['feels_like']\n",
    "    temp = city_information['main']['temp']\n",
    "    max_temp = city_information['main']['temp_max']\n",
    "    min_temp = city_information['main']['temp_min']\n",
    "    wind_speed = city_information['wind']['speed']\n",
    "    city_data = {'City': city_names[i],\n",
    "                 'Country': country,\n",
    "                 'Date': d.strftime('%d-%m-%Y'),\n",
    "                 'Latitude': latitude,\n",
    "                 'Longitude': longitude,\n",
    "                 'Population': city_populations[i],\n",
    "                 'Weather': weather_condition,\n",
    "                 'Main_Weather': weather_det,\n",
    "                 'Feels_like': feels_like,\n",
    "                 'temp': temp,\n",
    "                 'max_temp': max_temp,\n",
    "                 'min_temp': min_temp,\n",
    "                 'Wind_Speed': wind_speed}\n",
    "    world_temperatures.append(city_data)\n",
    "\n",
    "world_temps_df = pd.DataFrame(world_temperatures, columns = city_data.keys())"
   ]
  },
  {
   "cell_type": "code",
   "execution_count": 28,
   "metadata": {},
   "outputs": [],
   "source": [
    "world_temps_df.to_csv('weather.csv')"
   ]
  }
 ],
 "metadata": {
  "kernelspec": {
   "display_name": "Python 3",
   "language": "python",
   "name": "python3"
  },
  "language_info": {
   "codemirror_mode": {
    "name": "ipython",
    "version": 3
   },
   "file_extension": ".py",
   "mimetype": "text/x-python",
   "name": "python",
   "nbconvert_exporter": "python",
   "pygments_lexer": "ipython3",
   "version": "3.6.7"
  }
 },
 "nbformat": 4,
 "nbformat_minor": 2
}

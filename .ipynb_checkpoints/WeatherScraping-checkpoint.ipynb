{
 "cells": [
  {
   "cell_type": "code",
   "execution_count": 2,
   "metadata": {},
   "outputs": [],
   "source": [
    "import os\n",
    "import requests\n",
    "import pandas as pd\n",
    "from bs4 import BeautifulSoup"
   ]
  },
  {
   "cell_type": "code",
   "execution_count": 3,
   "metadata": {},
   "outputs": [],
   "source": [
    "def getCurrentWeather(params):\n",
    "    weather = 'http://api.openweathermap.org/data/2.5/weather'\n",
    "    params['APPID'] = os.environ['APPID']\n",
    "    params['units'] = 'metric'\n",
    "    return requests.get(weather,params)"
   ]
  },
  {
   "cell_type": "code",
   "execution_count": 4,
   "metadata": {},
   "outputs": [],
   "source": [
    "params = {'q':'Melbourne,AU'}"
   ]
  },
  {
   "cell_type": "code",
   "execution_count": 5,
   "metadata": {},
   "outputs": [],
   "source": [
    "response = getCurrentWeather(params)"
   ]
  },
  {
   "cell_type": "code",
   "execution_count": 6,
   "metadata": {},
   "outputs": [
    {
     "data": {
      "text/plain": [
       "200"
      ]
     },
     "execution_count": 6,
     "metadata": {},
     "output_type": "execute_result"
    }
   ],
   "source": [
    "response.status_code"
   ]
  },
  {
   "cell_type": "code",
   "execution_count": 7,
   "metadata": {},
   "outputs": [
    {
     "data": {
      "text/plain": [
       "{'base': 'stations',\n",
       " 'clouds': {'all': 98},\n",
       " 'cod': 200,\n",
       " 'coord': {'lat': -37.81, 'lon': 144.96},\n",
       " 'dt': 1587777132,\n",
       " 'id': 2158177,\n",
       " 'main': {'feels_like': 14.51,\n",
       "  'humidity': 72,\n",
       "  'pressure': 1019,\n",
       "  'temp': 17.97,\n",
       "  'temp_max': 19.44,\n",
       "  'temp_min': 17},\n",
       " 'name': 'Melbourne',\n",
       " 'sys': {'country': 'AU',\n",
       "  'id': 9548,\n",
       "  'sunrise': 1587761734,\n",
       "  'sunset': 1587800422,\n",
       "  'type': 1},\n",
       " 'timezone': 36000,\n",
       " 'visibility': 10000,\n",
       " 'weather': [{'description': 'overcast clouds',\n",
       "   'icon': '04d',\n",
       "   'id': 804,\n",
       "   'main': 'Clouds'}],\n",
       " 'wind': {'deg': 350, 'speed': 6.2}}"
      ]
     },
     "execution_count": 7,
     "metadata": {},
     "output_type": "execute_result"
    }
   ],
   "source": [
    "response.json()"
   ]
  },
  {
   "cell_type": "markdown",
   "metadata": {},
   "source": [
    "## Getting World Cities"
   ]
  },
  {
   "cell_type": "code",
   "execution_count": 8,
   "metadata": {},
   "outputs": [],
   "source": [
    "world_cities = requests.get('https://worldpopulationreview.com/world-cities/')"
   ]
  },
  {
   "cell_type": "code",
   "execution_count": 9,
   "metadata": {},
   "outputs": [],
   "source": [
    "cities = BeautifulSoup(world_cities.text,'lxml')"
   ]
  },
  {
   "cell_type": "code",
   "execution_count": 10,
   "metadata": {},
   "outputs": [],
   "source": [
    "city_names = []\n",
    "for i in range(42,450):\n",
    "    if i%2 == 0:\n",
    "        city_names.append(cities.findAll('a')[i].getText())"
   ]
  },
  {
   "cell_type": "code",
   "execution_count": 11,
   "metadata": {},
   "outputs": [
    {
     "data": {
      "text/plain": [
       "['Tokyo', 'Delhi', 'Shanghai', 'Sao Paulo', 'Mexico City']"
      ]
     },
     "execution_count": 11,
     "metadata": {},
     "output_type": "execute_result"
    }
   ],
   "source": [
    "city_names[:5]"
   ]
  },
  {
   "cell_type": "code",
   "execution_count": 12,
   "metadata": {},
   "outputs": [
    {
     "data": {
      "text/plain": [
       "204"
      ]
     },
     "execution_count": 12,
     "metadata": {},
     "output_type": "execute_result"
    }
   ],
   "source": [
    "len(city_names)"
   ]
  },
  {
   "cell_type": "code",
   "execution_count": 13,
   "metadata": {},
   "outputs": [],
   "source": [
    "city_populations = []\n",
    "for i in range(1220):\n",
    "    if i%6 == 0:\n",
    "        city_populations.append(cities.findAll('td')[i+3].getText())"
   ]
  },
  {
   "cell_type": "code",
   "execution_count": 14,
   "metadata": {
    "scrolled": true
   },
   "outputs": [
    {
     "data": {
      "text/plain": [
       "['37,393,129', '30,290,936', '27,058,479', '22,043,028', '21,782,378']"
      ]
     },
     "execution_count": 14,
     "metadata": {},
     "output_type": "execute_result"
    }
   ],
   "source": [
    "city_populations[:5]"
   ]
  },
  {
   "cell_type": "code",
   "execution_count": 15,
   "metadata": {},
   "outputs": [
    {
     "data": {
      "text/plain": [
       "204"
      ]
     },
     "execution_count": 15,
     "metadata": {},
     "output_type": "execute_result"
    }
   ],
   "source": [
    "len(city_populations)"
   ]
  },
  {
   "cell_type": "markdown",
   "metadata": {},
   "source": [
    "## Putting it all together"
   ]
  },
  {
   "cell_type": "code",
   "execution_count": 16,
   "metadata": {},
   "outputs": [],
   "source": [
    "def get_correct_name(city_name):\n",
    "    correct_name = city_name\n",
    "    if city_name == 'St Petersburg':\n",
    "        correct_name = 'St. Petersburg'\n",
    "    elif city_name == 'Rome':\n",
    "        correct_name = 'Rome,IT'\n",
    "    elif city_name == 'Melbourne':\n",
    "        correct_name = 'Melbourne,AU'\n",
    "    return correct_name"
   ]
  },
  {
   "cell_type": "code",
   "execution_count": 20,
   "metadata": {},
   "outputs": [],
   "source": [
    "world_temperatures = []\n",
    "for i in range(204):\n",
    "    params['q'] = get_correct_name(city_names[i])\n",
    "    response = getCurrentWeather(params)\n",
    "    if response.status_code != 200:\n",
    "        continue\n",
    "    city_information = response.json()\n",
    "    country = city_information['sys']['country']\n",
    "    latitude = city_information['coord']['lat']\n",
    "    longitude = city_information['coord']['lon']\n",
    "    weather_condition = city_information['weather'][0]['main']\n",
    "    weather_det = city_information['weather'][0]['description']\n",
    "    feels_like = city_information['main']['feels_like']\n",
    "    temp = city_information['main']['temp']\n",
    "    max_temp = city_information['main']['temp_max']\n",
    "    min_temp = city_information['main']['temp_min']\n",
    "    wind_speed = city_information['wind']['speed']\n",
    "    city_data = {'City': city_names[i],\n",
    "                 'Country': country,\n",
    "                 'Latitude': latitude,\n",
    "                 'Longitude': longitude,\n",
    "                 'Population': city_populations[i],\n",
    "                 'Weather': weather_condition,\n",
    "                 'Main_Weather': weather_det,\n",
    "                 'Feels_like': feels_like,\n",
    "                 'temp': temp,\n",
    "                 'max_temp': max_temp,\n",
    "                 'min_temp': min_temp,\n",
    "                 'Wind_Speed': wind_speed}\n",
    "    world_temperatures.append(city_data)\n",
    "\n",
    "world_temps_df = pd.DataFrame(world_temperatures, columns = city_data.keys())"
   ]
  },
  {
   "cell_type": "code",
   "execution_count": 28,
   "metadata": {},
   "outputs": [],
   "source": [
    "world_temps_df.to_csv('weather.csv')"
   ]
  }
 ],
 "metadata": {
  "kernelspec": {
   "display_name": "Python 3",
   "language": "python",
   "name": "python3"
  },
  "language_info": {
   "codemirror_mode": {
    "name": "ipython",
    "version": 3
   },
   "file_extension": ".py",
   "mimetype": "text/x-python",
   "name": "python",
   "nbconvert_exporter": "python",
   "pygments_lexer": "ipython3",
   "version": "3.6.7"
  }
 },
 "nbformat": 4,
 "nbformat_minor": 2
}
